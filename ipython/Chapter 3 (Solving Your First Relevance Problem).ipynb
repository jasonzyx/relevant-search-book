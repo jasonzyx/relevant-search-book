{
 "cells": [
  {
   "cell_type": "markdown",
   "id": "acb7a35d",
   "metadata": {},
   "source": [
    "# Boilerplate Setup"
   ]
  },
  {
   "cell_type": "code",
   "execution_count": 1,
   "id": "6bbf489c",
   "metadata": {
    "collapsed": false,
    "jupyter": {
     "outputs_hidden": false
    }
   },
   "outputs": [],
   "source": [
    "import requests\n",
    "import json\n",
    "\n",
    "\n",
    "# Optional, enable client-side caching for TMDB\n",
    "# Requires: https://httpcache.readthedocs.org/en/latest/\n",
    "#from httpcache import CachingHTTPAdapter\n",
    "#tmdb_api.mount('https://', CachingHTTPAdapter())\n",
    "#tmdb_api.mount('http://', CachingHTTPAdapter())\n",
    "\n",
    "# Some utilities for flattening the explain into something a bit more\n",
    "# readable. Pass Explain JSON, get something readable (ironically this is what Solr's default output is :-p)\n",
    "def flatten(l):\n",
    "    [item for sublist in l for item in sublist]\n",
    "\n",
    "def simplerExplain(explainJson, depth=0):\n",
    "    result = \" \" * (depth * 2) + \"%s, %s\\n\" % (explainJson['value'], explainJson['description'])\n",
    "    #print json.dumps(explainJson, indent=True)\n",
    "    if 'details' in explainJson:\n",
    "        for detail in explainJson['details']:\n",
    "            result += simplerExplain(detail, depth=depth+1)\n",
    "    return result"
   ]
  },
  {
   "cell_type": "markdown",
   "id": "885efb2a",
   "metadata": {},
   "source": [
    "# 3.2.2 Indexing TMDB Movies"
   ]
  },
  {
   "cell_type": "code",
   "execution_count": 2,
   "id": "3d1fd250",
   "metadata": {
    "collapsed": false,
    "jupyter": {
     "outputs_hidden": false
    }
   },
   "outputs": [],
   "source": [
    "def extract():\n",
    "    f = open('tmdb.json')\n",
    "    if f:\n",
    "         return json.loads(f.read());        \n",
    "    return {}"
   ]
  },
  {
   "cell_type": "code",
   "execution_count": 87,
   "id": "4ffd7f7d",
   "metadata": {
    "collapsed": false,
    "jupyter": {
     "outputs_hidden": false
    }
   },
   "outputs": [],
   "source": [
    "def reindex(analysisSettings={}, mappingSettings={}, movieDict={}):\n",
    "    settings = { #A\n",
    "        \"settings\": {\n",
    "            \"number_of_shards\": 1, #B\n",
    "            \"index\": {\n",
    "                \"analysis\" : analysisSettings, #C\n",
    "            }}}\n",
    "\n",
    "    if mappingSettings:\n",
    "        settings['mappings'] = mappingSettings #C\n",
    "\n",
    "    resp = requests.delete(\"http://localhost:9200/tmdb\") #D\n",
    "    resp = requests.put(\"http://localhost:9200/tmdb\", \n",
    "                        data=json.dumps(settings))\n",
    "\n",
    "    bulkMovies = \"\"\n",
    "    cnt = 0\n",
    "    print(\"building...\")\n",
    "    for id, movie in movieDict.items(): \n",
    "        addCmd = {\"index\": {\"_index\": \"tmdb\", #E\n",
    "                            \"_type\": \"movie\",\n",
    "                            \"_id\": movie[\"id\"]}}\n",
    "        item = json.dumps(addCmd) + \"\\n\" + json.dumps(movie) + \"\\n\"\n",
    "        bulkMovies += item\n",
    "        if cnt % 500 == 0:\n",
    "            print(f'{cnt} movies has been processed')\n",
    "        cnt += 1\n",
    "\n",
    "    print(\"indexing...\")\n",
    "    resp = requests.post(\"http://localhost:9200/_bulk\", data=bulkMovies, headers={\"content-type\": \"application/json\"})\n",
    "    print(resp)\n",
    "    print(\"done!\")\n"
   ]
  },
  {
   "cell_type": "code",
   "execution_count": 88,
   "id": "5536ec78",
   "metadata": {
    "collapsed": false,
    "jupyter": {
     "outputs_hidden": false
    }
   },
   "outputs": [],
   "source": [
    "movieDict = extract()"
   ]
  },
  {
   "cell_type": "code",
   "execution_count": 89,
   "id": "26821a0b-797e-4ebe-96ca-69c8890a2495",
   "metadata": {},
   "outputs": [],
   "source": [
    "# addCmd = {\"index\": {\"_index\": \"tmdb\", #E\n",
    "#                             \"_type\": \"movie\",\n",
    "#                             \"_id\": '93837'}}\n",
    "\n",
    "# json.dumps(addCmd) + \"\\n\" + json.dumps(movieDict['93837']) + \"\\n\""
   ]
  },
  {
   "cell_type": "code",
   "execution_count": 90,
   "id": "02a07952-d1f0-4ef6-bb1b-d708a6b6497f",
   "metadata": {},
   "outputs": [
    {
     "name": "stdout",
     "output_type": "stream",
     "text": [
      "building...\n",
      "0 movies has been processed\n",
      "500 movies has been processed\n",
      "1000 movies has been processed\n",
      "1500 movies has been processed\n",
      "2000 movies has been processed\n",
      "2500 movies has been processed\n",
      "3000 movies has been processed\n",
      "indexing...\n",
      "<Response [200]>\n",
      "done!\n"
     ]
    }
   ],
   "source": [
    "reindex(movieDict=movieDict)"
   ]
  },
  {
   "cell_type": "markdown",
   "id": "3ad3cb58",
   "metadata": {},
   "source": [
    "# 3.2.3 Basic Searching"
   ]
  },
  {
   "cell_type": "code",
   "execution_count": 91,
   "id": "4e5d7134",
   "metadata": {
    "collapsed": false,
    "jupyter": {
     "outputs_hidden": false
    }
   },
   "outputs": [],
   "source": [
    "def search(query):\n",
    "    url = 'http://localhost:9200/tmdb/movie/_search'\n",
    "    httpResp = requests.get(url, data=json.dumps(query), headers={\"content-type\": \"application/json\"}) #A\n",
    "    searchHits = json.loads(httpResp.text)['hits']\n",
    "    print(\"Num\\tRelevance Score\\t\\tMovie Title\\t\\tOverview\") #B\n",
    "    for idx, hit in enumerate(searchHits['hits']):\n",
    "            print(\"%s\\t%s\\t\\t%s\" % (idx + 1, hit['_score'], hit['_source']['title']))\n"
   ]
  },
  {
   "cell_type": "code",
   "execution_count": 92,
   "id": "35407817",
   "metadata": {
    "collapsed": false,
    "jupyter": {
     "outputs_hidden": false
    }
   },
   "outputs": [
    {
     "name": "stdout",
     "output_type": "stream",
     "text": [
      "Num\tRelevance Score\t\tMovie Title\t\tOverview\n",
      "1\t86.512436\t\tAliens\n",
      "2\t72.18011\t\tCowboys & Aliens\n",
      "3\t70.14692\t\tThe Basketball Diaries\n",
      "4\t54.21631\t\tAliens vs Predator: Requiem\n",
      "5\t46.29787\t\tDances with Wolves\n",
      "6\t46.29787\t\tFriends with Benefits\n",
      "7\t46.29787\t\tFire with Fire\n",
      "8\t40.53669\t\tInterview with the Vampire\n",
      "9\t40.53669\t\tFrom Russia With Love\n",
      "10\t40.53669\t\tGone with the Wind\n",
      "11\t40.53669\t\tJust Go With It\n",
      "12\t40.53669\t\tMy Week with Marilyn\n",
      "13\t40.53669\t\tFrom Paris with Love\n",
      "14\t36.050636\t\tDie Hard: With a Vengeance\n",
      "15\t36.050636\t\tGirl with a Pearl Earring\n",
      "16\t32.458572\t\tThe Girl with the Dragon Tattoo\n",
      "17\t32.458572\t\tThe Life Aquatic With Steve Zissou\n",
      "18\t32.458572\t\tTwin Peaks: Fire Walk with Me\n",
      "19\t32.458572\t\tYou Don't Mess With the Zohan\n",
      "20\t32.458572\t\tThe Man with the Golden Gun\n"
     ]
    }
   ],
   "source": [
    "usersSearch = 'basketball with cartoon aliens'\n",
    "query = {\n",
    "    'query': {\n",
    "        'multi_match': { \n",
    "            'query': usersSearch, #A\n",
    "            'fields': ['title^10', 'overview'], #B\n",
    "        },\n",
    "    },\n",
    "    'size': '20'\n",
    "}\n",
    "search(query)"
   ]
  },
  {
   "cell_type": "markdown",
   "id": "4c1fa01a",
   "metadata": {},
   "source": [
    "# 2.3.1 Query Validation API"
   ]
  },
  {
   "cell_type": "code",
   "execution_count": 93,
   "id": "abe400bf",
   "metadata": {
    "collapsed": false,
    "jupyter": {
     "outputs_hidden": false
    }
   },
   "outputs": [
    {
     "name": "stdout",
     "output_type": "stream",
     "text": [
      "{'_shards': {'total': 1, 'successful': 1, 'failed': 0}, 'valid': True, 'explanations': [{'index': 'tmdb', 'valid': True, 'explanation': '+((overview:basketball overview:with overview:cartoon overview:aliens) | (title:basketball title:with title:cartoon title:aliens)^10.0) #*:*'}]}\n"
     ]
    }
   ],
   "source": [
    "query = {\n",
    "   'query': {\n",
    "        'multi_match': { \n",
    "            'query': usersSearch,  #User's query\n",
    "            'fields': ['title^10', 'overview']\n",
    "        }\n",
    "    }\n",
    "}\n",
    "httpResp = requests.get('http://localhost:9200' + \n",
    "\t\t\t    '/tmdb/movie/_validate/query?explain',\n",
    "\t\t\t     data=json.dumps(query), headers={\"content-type\": \"application/json\"})\n",
    "print(json.loads(httpResp.text))"
   ]
  },
  {
   "cell_type": "markdown",
   "id": "f0367e84",
   "metadata": {},
   "source": [
    "# 2.3.3 Debugging Analysis"
   ]
  },
  {
   "cell_type": "code",
   "execution_count": 94,
   "id": "fe0bfb90",
   "metadata": {
    "collapsed": false,
    "jupyter": {
     "outputs_hidden": false
    }
   },
   "outputs": [
    {
     "name": "stdout",
     "output_type": "stream",
     "text": [
      "---\n",
      "tokens:\n",
      "- token: \"fire\"\n",
      "  start_offset: 0\n",
      "  end_offset: 4\n",
      "  type: \"<ALPHANUM>\"\n",
      "  position: 0\n",
      "- token: \"with\"\n",
      "  start_offset: 5\n",
      "  end_offset: 9\n",
      "  type: \"<ALPHANUM>\"\n",
      "  position: 1\n",
      "- token: \"fire\"\n",
      "  start_offset: 10\n",
      "  end_offset: 14\n",
      "  type: \"<ALPHANUM>\"\n",
      "  position: 2\n",
      "\n"
     ]
    }
   ],
   "source": [
    "# Inner Layer of the Onion -- Why did the search engine consider these movies matches? Two sides to this\n",
    "# (1) What tokens are placed in the search engine?\n",
    "# (2) What did the search engine attempt to match exactly?\n",
    "\n",
    "# Explain of what's happening when we construct these terms\n",
    "\n",
    "#resp = requests.get(elasticSearchUrl + \"/tmdb/_mapping/movie/field/title?format=yaml'\n",
    "text = {'text': 'Fire with Fire',\n",
    "        'field': 'title',\n",
    "        # 'analyzer': 'standard', #'english'\n",
    "       }\n",
    "resp = requests.get('http://localhost:9200/tmdb/_analyze?format=yaml', \n",
    "                    data=json.dumps(text), headers={\"content-type\": \"application/json\"})\n",
    "print(resp.text)"
   ]
  },
  {
   "cell_type": "markdown",
   "id": "9f1ce30b",
   "metadata": {},
   "source": [
    "# 2.3.5 -- Solving The Matching Problem"
   ]
  },
  {
   "cell_type": "code",
   "execution_count": null,
   "id": "043e29b3-23fb-4940-b4c0-73a9c7b17ce4",
   "metadata": {},
   "outputs": [],
   "source": [
    "def reindex(analysisSettings={}, mappingSettings={}, movieDict={}):\n",
    "    settings = { #A\n",
    "        \"settings\": {\n",
    "            \"number_of_shards\": 1, #B\n",
    "            \"index\": {\n",
    "                \"analysis\" : analysisSettings, #C\n",
    "            }}}\n",
    "\n",
    "    if mappingSettings:\n",
    "        settings['mappings'] = mappingSettings #C\n",
    "\n",
    "    resp = requests.delete(\"http://localhost:9200/tmdb\") #D\n",
    "    resp = requests.put(\"http://localhost:9200/tmdb\", \n",
    "                        data=json.dumps(settings))\n",
    "\n",
    "    bulkMovies = \"\"\n",
    "    cnt = 0\n",
    "    print(\"building...\")\n",
    "    for id, movie in movieDict.items(): \n",
    "        addCmd = {\"index\": {\"_index\": \"tmdb\", #E\n",
    "                            \"_type\": \"movie\",\n",
    "                            \"_id\": movie[\"id\"]}}\n",
    "        item = json.dumps(addCmd) + \"\\n\" + json.dumps(movie) + \"\\n\"\n",
    "        bulkMovies += item\n",
    "        if cnt % 500 == 0:\n",
    "            print(f'{cnt} movies has been processed')\n",
    "        cnt += 1\n",
    "\n",
    "    print(\"indexing...\")\n",
    "    resp = requests.post(\"http://localhost:9200/_bulk\", data=bulkMovies, headers={\"content-type\": \"application/json\"})\n",
    "    print(resp)\n",
    "    print(\"done!\")"
   ]
  },
  {
   "cell_type": "code",
   "execution_count": 131,
   "id": "e8831fe0",
   "metadata": {
    "collapsed": false,
    "jupyter": {
     "outputs_hidden": false
    }
   },
   "outputs": [
    {
     "name": "stdout",
     "output_type": "stream",
     "text": [
      "building...\n",
      "0 movies has been processed\n",
      "500 movies has been processed\n",
      "1000 movies has been processed\n",
      "1500 movies has been processed\n",
      "2000 movies has been processed\n",
      "2500 movies has been processed\n",
      "3000 movies has been processed\n",
      "indexing...\n",
      "<Response [200]>\n",
      "done!\n"
     ]
    }
   ],
   "source": [
    "mappingSettings = {\n",
    "       'movie': {\n",
    "            'properties': {\n",
    "               'title': { #A\n",
    "                   'type': 'text',\n",
    "                   'analyzer': 'standard', # 'english',\n",
    "               },\n",
    "               'overview': {\n",
    "                   'type': 'text',\n",
    "                   'analyzer': 'standard', # 'english'\n",
    "               }\n",
    "            }\n",
    "       }\n",
    "}\n",
    "# mappingSettings = {\n",
    "#         'properties': {\n",
    "#            'title': { #A\n",
    "#                'type': 'text',\n",
    "#                'analyzer': 'english',\n",
    "#                # 'search_analyzer': 'simple'\n",
    "#            },\n",
    "#            'overview': {\n",
    "#                'type': 'text',\n",
    "#                'analyzer': 'english',\n",
    "#                # 'search_analyzer': 'simple'\n",
    "#            }\n",
    "#         }\n",
    "# }\n",
    "reindex(mappingSettings=mappingSettings, movieDict=movieDict) "
   ]
  },
  {
   "cell_type": "code",
   "execution_count": 132,
   "id": "fe8c8eb0",
   "metadata": {
    "collapsed": false,
    "jupyter": {
     "outputs_hidden": false
    }
   },
   "outputs": [
    {
     "name": "stdout",
     "output_type": "stream",
     "text": [
      "---\n",
      "tokens:\n",
      "- token: \"fire\"\n",
      "  start_offset: 0\n",
      "  end_offset: 4\n",
      "  type: \"<ALPHANUM>\"\n",
      "  position: 0\n",
      "- token: \"fire\"\n",
      "  start_offset: 10\n",
      "  end_offset: 14\n",
      "  type: \"<ALPHANUM>\"\n",
      "  position: 2\n",
      "\n"
     ]
    }
   ],
   "source": [
    "text = {'text': 'Fire with Fire',\n",
    "        'field': 'title',\n",
    "        'analyzer': 'english', #'english'\n",
    "       }\n",
    "resp = requests.get('http://localhost:9200/tmdb/_analyze?format=yaml', \n",
    "                    data=json.dumps(text), headers={\"content-type\": \"application/json\"})\n",
    "print(resp.text)"
   ]
  },
  {
   "cell_type": "markdown",
   "id": "cb7c8ff1",
   "metadata": {},
   "source": [
    "## Repeat the search"
   ]
  },
  {
   "cell_type": "code",
   "execution_count": 148,
   "id": "ee06c17b",
   "metadata": {
    "collapsed": false,
    "jupyter": {
     "outputs_hidden": false
    }
   },
   "outputs": [
    {
     "name": "stdout",
     "output_type": "stream",
     "text": [
      "Num\tRelevance Score\t\tMovie Title\t\tOverview\n",
      "1\t7.3902683\t\tThe Flintstones\n",
      "2\t7.27343\t\tSpeed Racer\n",
      "3\t6.175305\t\tAliens vs Predator: Requiem\n",
      "4\t5.4407673\t\tInvasion of the Body Snatchers\n",
      "5\t5.3837976\t\tSpace Jam\n",
      "6\t5.3837976\t\tThe Darkest Hour\n",
      "7\t5.3280087\t\tSlither\n",
      "8\t5.273364\t\tThe Thing\n",
      "9\t5.273364\t\tEscape from Planet Earth\n",
      "10\t5.056947\t\tIndependence Day\n",
      "11\t5.056947\t\tEdge of Tomorrow\n",
      "12\t4.967671\t\tThe Last Starfighter\n",
      "13\t4.9201345\t\tAvatar\n",
      "14\t4.909315\t\tThe X Files\n",
      "15\t4.7387524\t\tTitan A.E.\n",
      "16\t4.695477\t\tThe Day the Earth Stood Still\n",
      "17\t4.6529856\t\tScary Movie 3\n",
      "18\t4.604123\t\tAttack the Block\n",
      "19\t4.604123\t\tGhosts of Mars\n",
      "20\t4.49044\t\tOutlander\n",
      "21\t4.4515624\t\tUnder the Skin\n",
      "22\t4.4515624\t\tThe Hitchhiker's Guide to the Galaxy\n",
      "23\t4.444916\t\tStar Trek IV: The Voyage Home\n",
      "24\t4.444916\t\tBattleship\n",
      "25\t4.338867\t\tContact\n",
      "26\t4.338867\t\tJustice League: War\n",
      "27\t4.266855\t\tThe Host\n",
      "28\t4.1971936\t\tStar Trek: Insurrection\n",
      "29\t4.1971936\t\tScary Movie 4\n",
      "30\t4.00122\t\tPredators\n",
      "31\t4.00122\t\tLifted\n",
      "32\t3.9399004\t\tLilo & Stitch\n",
      "33\t3.8804312\t\tThe Day the Earth Stood Still\n",
      "34\t3.8804312\t\tSpider-Man 3\n",
      "35\t3.8804312\t\tSpecies\n",
      "36\t3.8804312\t\tDistrict 9\n",
      "37\t3.7667217\t\tAliens\n",
      "38\t3.6594863\t\tPredator 2\n",
      "39\t3.6594863\t\tShort Circuit\n",
      "40\t3.6594863\t\tDude, Where’s My Car?\n",
      "41\t3.6594863\t\tAlien³\n",
      "42\t3.5581875\t\tAlien\n",
      "43\t3.5581875\t\tThe Faculty\n",
      "44\t3.4623466\t\tDreamcatcher\n",
      "45\t3.3715324\t\tDoom\n",
      "46\t3.3715324\t\tThe Invasion\n",
      "47\t3.3715324\t\tRiddick\n",
      "48\t3.3715324\t\tPaul\n",
      "49\t3.2853608\t\tPredator\n",
      "50\t3.2853608\t\tMonsters\n",
      "51\t3.2853608\t\tHome\n",
      "52\t3.203484\t\tMen in Black\n",
      "53\t3.125589\t\tSpring Breakers\n",
      "54\t2.980637\t\tHalo 4: Forward Unto Dawn\n",
      "55\t2.980637\t\tMars Needs Moms\n",
      "56\t2.8485332\t\tMen in Black II\n",
      "57\t2.7276425\t\tPride\n",
      "58\t2.6165953\t\tWreck-It Ralph\n",
      "59\t2.4195843\t\tStalker\n",
      "60\t0.7358517\t\tAlien: Resurrection\n",
      "61\t0.5520093\t\tAVP: Alien vs. Predator\n"
     ]
    }
   ],
   "source": [
    "usersSearch = 'basketball with cartoon aliens'\n",
    "query = {\n",
    "    'query': {\n",
    "        'multi_match': { \n",
    "            'query': usersSearch, #A\n",
    "            'fields': ['title^0.1', 'overview'], #B\n",
    "            'analyzer': 'english',\n",
    "        },\n",
    "    },\n",
    "    'size': '100'\n",
    "}\n",
    "search(query)"
   ]
  },
  {
   "cell_type": "markdown",
   "id": "c1517ae2",
   "metadata": {},
   "source": [
    "# 2.4.1\tDecomposing Relevance Score With Lucene’s Explain"
   ]
  },
  {
   "cell_type": "code",
   "execution_count": 149,
   "id": "b0acfbc3-3a82-4491-9592-05bcb9cb6736",
   "metadata": {},
   "outputs": [
    {
     "data": {
      "text/plain": [
       "{'query': {'multi_match': {'query': 'basketball with cartoon aliens',\n",
       "   'fields': ['title^0.1', 'overview'],\n",
       "   'analyzer': 'english'}},\n",
       " 'size': '100'}"
      ]
     },
     "execution_count": 149,
     "metadata": {},
     "output_type": "execute_result"
    }
   ],
   "source": [
    "query"
   ]
  },
  {
   "cell_type": "code",
   "execution_count": 151,
   "id": "2c247516",
   "metadata": {
    "collapsed": false,
    "jupyter": {
     "outputs_hidden": false
    }
   },
   "outputs": [
    {
     "name": "stdout",
     "output_type": "stream",
     "text": [
      "<Response [200]>\n",
      "Explain for Space Jam\n",
      "5.3837976, max of:\n",
      "  5.3837976, sum of:\n",
      "    5.3837976, weight(overview:alien in 1357) [PerFieldSimilarity], result of:\n",
      "      5.3837976, score(freq=1.0), computed as boost * idf * tf from:\n",
      "        2.2, boost\n",
      "        3.9714398, idf, computed as log(1 + (N - n + 0.5) / (n + 0.5)) from:\n",
      "          57, n, number of documents containing term\n",
      "          3050, N, total number of documents with field\n",
      "        0.6161949, tf, computed as freq / (freq + k1 * (1 - b + b * dl / avgdl)) from:\n",
      "          1.0, freq, occurrences of term within document\n",
      "          1.2, k1, term saturation parameter\n",
      "          0.75, b, length normalization parameter\n",
      "          19.0, dl, length of field\n",
      "          52.963608, avgdl, average length of field\n",
      "\n",
      "Explain for Aliens\n",
      "3.7667217, max of:\n",
      "  3.7667217, sum of:\n",
      "    3.7667217, weight(overview:alien in 454) [PerFieldSimilarity], result of:\n",
      "      3.7667217, score(freq=1.0), computed as boost * idf * tf from:\n",
      "        2.2, boost\n",
      "        3.9714398, idf, computed as log(1 + (N - n + 0.5) / (n + 0.5)) from:\n",
      "          57, n, number of documents containing term\n",
      "          3050, N, total number of documents with field\n",
      "        0.43111473, tf, computed as freq / (freq + k1 * (1 - b + b * dl / avgdl)) from:\n",
      "          1.0, freq, occurrences of term within document\n",
      "          1.2, k1, term saturation parameter\n",
      "          0.75, b, length normalization parameter\n",
      "          60.0, dl, length of field (approximate)\n",
      "          52.963608, avgdl, average length of field\n",
      "\n"
     ]
    }
   ],
   "source": [
    "query['explain'] = True\n",
    "httpResp = requests.get('http://localhost:9200/tmdb/movie/_search', data=json.dumps(query), headers={\"content-type\": \"application/json\"})\n",
    "print(httpResp)\n",
    "jsonResp = json.loads(httpResp.text)\n",
    "# print(json.dumps(jsonResp['hits']['hits'][0]['_explanation'], indent=True))\n",
    "print(\"Explain for %s\" % jsonResp['hits']['hits'][4]['_source']['title'])\n",
    "print(simplerExplain(jsonResp['hits']['hits'][4]['_explanation']))\n",
    "# print \"Explain for %s\" % jsonResp['hits']['hits'][1]['_source']['title']\n",
    "# print simplerExplain(jsonResp['hits']['hits'][1]['_explanation'])\n",
    "# print \"Explain for %s\" % jsonResp['hits']['hits'][2]['_source']['title']\n",
    "# print simplerExplain(jsonResp['hits']['hits'][2]['_explanation'])\n",
    "# print \"Explain for %s\" % jsonResp['hits']['hits'][3]['_source']['title']\n",
    "# print simplerExplain(jsonResp['hits']['hits'][3]['_explanation'])\n",
    "# print(\"Explain for %s\" % jsonResp['hits']['hits'][10]['_source']['title'])\n",
    "# print(simplerExplain(jsonResp['hits']['hits'][10]['_explanation']))\n",
    "\n",
    "print(\"Explain for %s\" % jsonResp['hits']['hits'][36]['_source']['title'])\n",
    "print(simplerExplain(jsonResp['hits']['hits'][36]['_explanation']))\n"
   ]
  },
  {
   "cell_type": "markdown",
   "id": "10350c05",
   "metadata": {},
   "source": [
    "# 3.4.4\tFixing Space Jam vs Alien Ranking"
   ]
  },
  {
   "cell_type": "code",
   "execution_count": 82,
   "id": "722c4361",
   "metadata": {
    "collapsed": false,
    "jupyter": {
     "outputs_hidden": false
    }
   },
   "outputs": [
    {
     "name": "stdout",
     "output_type": "stream",
     "text": [
      "Num\tRelevance Score\t\tMovie Title\t\tOverview\n",
      "1\t1.0016364\t\tSpace Jam\n",
      "2\t0.29594672\t\tGrown Ups\n",
      "3\t0.28491083\t\tSpeed Racer\n",
      "4\t0.28491083\t\tThe Flintstones\n",
      "5\t0.2536686\t\tWhite Men Can't Jump\n",
      "6\t0.2536686\t\tCoach Carter\n",
      "7\t0.21968345\t\tSemi-Pro\n",
      "8\t0.20324169\t\tThe Thing\n",
      "9\t0.1724563\t\tMeet Dave\n",
      "10\t0.16911241\t\tTeen Wolf\n"
     ]
    }
   ],
   "source": [
    "query = {\n",
    "    'query': {\n",
    "        'multi_match': { \n",
    "            'query': usersSearch,  #User's query\n",
    "            'fields': ['title^0.1', 'overview'],\n",
    "        }\n",
    "    },\n",
    "    'explain': True\n",
    "}\n",
    "search(query)\n"
   ]
  }
 ],
 "metadata": {
  "kernelspec": {
   "display_name": "Python 3 (ipykernel)",
   "language": "python",
   "name": "python3"
  },
  "language_info": {
   "codemirror_mode": {
    "name": "ipython",
    "version": 3
   },
   "file_extension": ".py",
   "mimetype": "text/x-python",
   "name": "python",
   "nbconvert_exporter": "python",
   "pygments_lexer": "ipython3",
   "version": "3.8.7"
  }
 },
 "nbformat": 4,
 "nbformat_minor": 5
}
